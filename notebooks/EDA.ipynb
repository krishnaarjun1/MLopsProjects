{
 "cells": [
  {
   "cell_type": "code",
   "execution_count": 1,
   "id": "e0906d4d",
   "metadata": {},
   "outputs": [
    {
     "name": "stdout",
     "output_type": "stream",
     "text": [
      "<class 'pandas.core.frame.DataFrame'>\n",
      "RangeIndex: 891 entries, 0 to 890\n",
      "Data columns (total 12 columns):\n",
      " #   Column       Non-Null Count  Dtype  \n",
      "---  ------       --------------  -----  \n",
      " 0   PassengerId  891 non-null    int64  \n",
      " 1   Survived     891 non-null    int64  \n",
      " 2   Pclass       891 non-null    int64  \n",
      " 3   Name         891 non-null    object \n",
      " 4   Sex          891 non-null    object \n",
      " 5   Age          714 non-null    float64\n",
      " 6   SibSp        891 non-null    int64  \n",
      " 7   Parch        891 non-null    int64  \n",
      " 8   Ticket       891 non-null    object \n",
      " 9   Fare         891 non-null    float64\n",
      " 10  Cabin        204 non-null    object \n",
      " 11  Embarked     889 non-null    object \n",
      "dtypes: float64(2), int64(5), object(5)\n",
      "memory usage: 83.7+ KB\n"
     ]
    }
   ],
   "source": [
    "# eda.ipynb\n",
    "\n",
    "import pandas as pd\n",
    "import seaborn as sns\n",
    "import matplotlib.pyplot as plt\n",
    "import os\n",
    "\n",
    "# Load Titanic data\n",
    "df = pd.read_csv('../Data/titanic_data.csv')  # Adjust path if needed\n",
    "\n",
    "# Create output directory if it doesn't exist\n",
    "os.makedirs(\"../eda_outputs\", exist_ok=True)\n",
    "\n",
    "# Basic info\n",
    "df.info()\n",
    "df.describe().to_csv(\"../eda_outputs/describe.csv\")\n",
    "df.isnull().sum().to_csv(\"../eda_outputs/null_values.csv\")\n",
    "\n",
    "# Plot: Survival Count\n",
    "plt.figure(figsize=(6,4))\n",
    "sns.countplot(data=df, x='Survived')\n",
    "plt.title('Survival Count')\n",
    "plt.savefig(\"../eda_outputs/survival_count.png\")\n",
    "plt.close()\n",
    "\n",
    "# Plot: Age Distribution\n",
    "plt.figure(figsize=(6,4))\n",
    "sns.histplot(data=df, x='Age', kde=True)\n",
    "plt.title('Age Distribution')\n",
    "plt.savefig(\"../eda_outputs/age_distribution.png\")\n",
    "plt.close()\n",
    "\n",
    "# Plot: Survival by Sex\n",
    "plt.figure(figsize=(6,4))\n",
    "sns.countplot(data=df, x='Sex', hue='Survived')\n",
    "plt.title('Survival by Sex')\n",
    "plt.savefig(\"../eda_outputs/survival_by_sex.png\")\n",
    "plt.close()\n"
   ]
  }
 ],
 "metadata": {
  "kernelspec": {
   "display_name": "Python 3",
   "language": "python",
   "name": "python3"
  },
  "language_info": {
   "codemirror_mode": {
    "name": "ipython",
    "version": 3
   },
   "file_extension": ".py",
   "mimetype": "text/x-python",
   "name": "python",
   "nbconvert_exporter": "python",
   "pygments_lexer": "ipython3",
   "version": "3.12.0"
  }
 },
 "nbformat": 4,
 "nbformat_minor": 5
}
